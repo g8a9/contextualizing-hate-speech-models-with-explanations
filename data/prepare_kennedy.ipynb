{
 "cells": [
  {
   "cell_type": "code",
   "execution_count": 1,
   "metadata": {},
   "outputs": [],
   "source": [
    "import pandas as pd\n",
    "from sklearn.model_selection import train_test_split\n",
    "import os\n",
    "import tqdm"
   ]
  },
  {
   "cell_type": "markdown",
   "metadata": {},
   "source": [
    "# Prepare Stormfront"
   ]
  },
  {
   "cell_type": "code",
   "execution_count": 2,
   "metadata": {},
   "outputs": [],
   "source": [
    "train_dir = \"hate-speech-dataset/sampled_train/\"\n",
    "test_dir = \"hate-speech-dataset/sampled_test/\"\n",
    "annot = \"hate-speech-dataset/annotations_metadata.csv\"\n",
    "out_dir = \"white_supremacy\""
   ]
  },
  {
   "cell_type": "code",
   "execution_count": 26,
   "metadata": {},
   "outputs": [
    {
     "name": "stdout",
     "output_type": "stream",
     "text": [
      "(1531, 3) (383, 3) (478, 3)\n"
     ]
    }
   ],
   "source": [
    "def read_files(root, annot):\n",
    "    names = [n for n in os.listdir(root) if n.endswith(\".txt\")]\n",
    "    rows = list()\n",
    "    meta = pd.read_csv(annot, index_col=\"file_id\")\n",
    "    for name in names:\n",
    "        splits = os.path.splitext(name)\n",
    "        label = 1 if meta.label.loc[splits[0]] == \"hate\" else 0\n",
    "        with open(os.path.join(root, name)) as fp:\n",
    "            text = fp.read().strip()\n",
    "            rows.append({\n",
    "                \"doc_id\": splits[0],\n",
    "                \"text\": text,\n",
    "                \"is_hate\": label\n",
    "            })\n",
    "    return pd.DataFrame(rows)\n",
    "    \n",
    "raw_train = read_files(train_dir, annot)\n",
    "train, dev = train_test_split(raw_train, train_size=0.8, stratify=raw_train.is_hate)\n",
    "test = read_files(test_dir, annot)\n",
    "print(train.shape, dev.shape, test.shape)"
   ]
  },
  {
   "cell_type": "code",
   "execution_count": 29,
   "metadata": {},
   "outputs": [],
   "source": [
    "train.to_csv(os.path.join(out_dir, \"train.tsv\"), sep=\"\\t\", index=False)\n",
    "dev.to_csv(os.path.join(out_dir, \"dev.tsv\"), sep=\"\\t\", index=False)\n",
    "test.to_csv(os.path.join(out_dir, \"test.tsv\"), sep=\"\\t\", index=False)"
   ]
  },
  {
   "cell_type": "markdown",
   "metadata": {},
   "source": [
    "#  Prepare Gab Hate Corpus\n",
    "\n",
    "# TODO define this."
   ]
  },
  {
   "cell_type": "code",
   "execution_count": 2,
   "metadata": {},
   "outputs": [],
   "source": [
    "if not os.path.exists(\"majority_gab_dataset_25k\"):\n",
    "    os.mkdir(\"majority_gab_dataset_25k\")"
   ]
  },
  {
   "cell_type": "code",
   "execution_count": 3,
   "metadata": {},
   "outputs": [],
   "source": [
    "gab = pd.read_csv(\"GabHateCorpus_annotations.tsv\", sep=\"\\t\")\n",
    "gab_no_hate = gab.drop(columns=[\"Hate\"])"
   ]
  },
  {
   "cell_type": "code",
   "execution_count": 5,
   "metadata": {},
   "outputs": [
    {
     "data": {
      "text/plain": [
       "27665"
      ]
     },
     "execution_count": 5,
     "metadata": {},
     "output_type": "execute_result"
    }
   ],
   "source": [
    "len(gab.groupby(\"ID\"))"
   ]
  }
 ],
 "metadata": {
  "kernelspec": {
   "display_name": "Python 3",
   "language": "python",
   "name": "python3"
  },
  "language_info": {
   "codemirror_mode": {
    "name": "ipython",
    "version": 3
   },
   "file_extension": ".py",
   "mimetype": "text/x-python",
   "name": "python",
   "nbconvert_exporter": "python",
   "pygments_lexer": "ipython3",
   "version": "3.7.7"
  }
 },
 "nbformat": 4,
 "nbformat_minor": 4
}
